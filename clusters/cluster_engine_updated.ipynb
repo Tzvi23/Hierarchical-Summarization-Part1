{
 "cells": [
  {
   "cell_type": "code",
   "execution_count": 1,
   "metadata": {},
   "outputs": [],
   "source": [
    "import numpy as np # linear algebra\n",
    "import pandas as pd # data processing, CSV file I/O (e.g. pd.read_csv)\n",
    "from sklearn.cluster import KMeans\n",
    "from sklearn.feature_extraction.text import TfidfVectorizer\n",
    "from sklearn.decomposition import PCA\n",
    "from sklearn.preprocessing import normalize\n",
    "from sklearn.metrics import pairwise_distances\n",
    "from sklearn.metrics import davies_bouldin_score\n",
    "from sklearn.metrics import silhouette_score\n",
    "from sklearn.metrics.pairwise import paired_euclidean_distances\n",
    "from scipy.spatial import distance  # Calculate distance between points\n",
    "\n",
    "import nltk\n",
    "import string\n",
    "\n",
    "import matplotlib.pyplot as plt\n",
    "%matplotlib inline\n",
    "plt.style.use('fivethirtyeight')"
   ]
  },
  {
   "cell_type": "markdown",
   "metadata": {},
   "source": [
    "### Load the .csv file with all the data to be clustred"
   ]
  },
  {
   "cell_type": "code",
   "execution_count": 2,
   "metadata": {},
   "outputs": [
    {
     "data": {
      "text/html": [
       "<div>\n",
       "<style scoped>\n",
       "    .dataframe tbody tr th:only-of-type {\n",
       "        vertical-align: middle;\n",
       "    }\n",
       "\n",
       "    .dataframe tbody tr th {\n",
       "        vertical-align: top;\n",
       "    }\n",
       "\n",
       "    .dataframe thead th {\n",
       "        text-align: right;\n",
       "    }\n",
       "</style>\n",
       "<table border=\"1\" class=\"dataframe\">\n",
       "  <thead>\n",
       "    <tr style=\"text-align: right;\">\n",
       "      <th></th>\n",
       "      <th>file_id</th>\n",
       "      <th>text</th>\n",
       "    </tr>\n",
       "  </thead>\n",
       "  <tbody>\n",
       "    <tr>\n",
       "      <th>0</th>\n",
       "      <td>9400</td>\n",
       "      <td>03 LiDCO Annual Report 200809 Technical Innova...</td>\n",
       "    </tr>\n",
       "    <tr>\n",
       "      <th>1</th>\n",
       "      <td>8174</td>\n",
       "      <td>Insp Ired  Gam In GG roup p LC annua L report ...</td>\n",
       "    </tr>\n",
       "    <tr>\n",
       "      <th>2</th>\n",
       "      <td>6855</td>\n",
       "      <td>GREENE KING PLC Annual report 2013 site REVIEW...</td>\n",
       "    </tr>\n",
       "    <tr>\n",
       "      <th>3</th>\n",
       "      <td>8388</td>\n",
       "      <td>Invensys plc    Annual Report and Accounts 200...</td>\n",
       "    </tr>\n",
       "    <tr>\n",
       "      <th>4</th>\n",
       "      <td>10924</td>\n",
       "      <td>NAUTICAL PETROLEUM PLC REPORT AND ACCOUNTS 200...</td>\n",
       "    </tr>\n",
       "  </tbody>\n",
       "</table>\n",
       "</div>"
      ],
      "text/plain": [
       "   file_id                                               text\n",
       "0     9400  03 LiDCO Annual Report 200809 Technical Innova...\n",
       "1     8174  Insp Ired  Gam In GG roup p LC annua L report ...\n",
       "2     6855  GREENE KING PLC Annual report 2013 site REVIEW...\n",
       "3     8388  Invensys plc    Annual Report and Accounts 200...\n",
       "4    10924  NAUTICAL PETROLEUM PLC REPORT AND ACCOUNTS 200..."
      ]
     },
     "execution_count": 2,
     "metadata": {},
     "output_type": "execute_result"
    }
   ],
   "source": [
    "df = pd.read_csv('corpus.csv', nrows=1000)\n",
    "df.head()"
   ]
  },
  {
   "cell_type": "markdown",
   "metadata": {},
   "source": [
    "#### Take just the text column and lower all the text"
   ]
  },
  {
   "cell_type": "code",
   "execution_count": 3,
   "metadata": {},
   "outputs": [
    {
     "data": {
      "text/plain": [
       "0      03 lidco annual report 200809 technical innova...\n",
       "1      insp ired  gam in gg roup p lc annua l report ...\n",
       "2      greene king plc annual report 2013 site review...\n",
       "3      invensys plc    annual report and accounts 200...\n",
       "4      nautical petroleum plc report and accounts 200...\n",
       "                             ...                        \n",
       "995    burberry group plc annual report 201112 chief ...\n",
       "996    chief executive officers review 2012 has been ...\n",
       "997    design and production by accrue the paper used...\n",
       "998    strategic report 4 abcam plc annual report and...\n",
       "999    .04   proof three  250315 what our customers a...\n",
       "Name: text, Length: 1000, dtype: object"
      ]
     },
     "execution_count": 3,
     "metadata": {},
     "output_type": "execute_result"
    }
   ],
   "source": [
    "data = df['text'].str.lower()\n",
    "data"
   ]
  },
  {
   "cell_type": "code",
   "execution_count": 4,
   "metadata": {},
   "outputs": [
    {
     "name": "stdout",
     "output_type": "stream",
     "text": [
      "1\n",
      "0\n"
     ]
    }
   ],
   "source": [
    "print(data.isna().sum())  # Shows how many empty rows exists\n",
    "data = data.dropna()  # Drops the row that are empty\n",
    "print(data.isna().sum())  # Shows how many empty rows exists after dropna"
   ]
  },
  {
   "cell_type": "code",
   "execution_count": 5,
   "metadata": {},
   "outputs": [],
   "source": [
    "tf_idf_vectorizor = TfidfVectorizer(stop_words = 'english',#tokenizer = tokenize_and_stem,\n",
    "                             max_features = 20000)\n",
    "tf_idf = tf_idf_vectorizor.fit_transform(data)\n",
    "tf_idf_norm = normalize(tf_idf)\n",
    "tf_idf_array = tf_idf_norm.toarray()"
   ]
  },
  {
   "cell_type": "markdown",
   "metadata": {},
   "source": [
    "#### Feature names"
   ]
  },
  {
   "cell_type": "code",
   "execution_count": 6,
   "metadata": {},
   "outputs": [
    {
     "data": {
      "text/html": [
       "<div>\n",
       "<style scoped>\n",
       "    .dataframe tbody tr th:only-of-type {\n",
       "        vertical-align: middle;\n",
       "    }\n",
       "\n",
       "    .dataframe tbody tr th {\n",
       "        vertical-align: top;\n",
       "    }\n",
       "\n",
       "    .dataframe thead th {\n",
       "        text-align: right;\n",
       "    }\n",
       "</style>\n",
       "<table border=\"1\" class=\"dataframe\">\n",
       "  <thead>\n",
       "    <tr style=\"text-align: right;\">\n",
       "      <th></th>\n",
       "      <th>00</th>\n",
       "      <th>000</th>\n",
       "      <th>00000hillandsmitharbck</th>\n",
       "      <th>0001</th>\n",
       "      <th>000s</th>\n",
       "      <th>001</th>\n",
       "      <th>0011</th>\n",
       "      <th>0025</th>\n",
       "      <th>004</th>\n",
       "      <th>005</th>\n",
       "      <th>...</th>\n",
       "      <th>zircadian</th>\n",
       "      <th>zloty</th>\n",
       "      <th>zn</th>\n",
       "      <th>zoladex</th>\n",
       "      <th>zone</th>\n",
       "      <th>zones</th>\n",
       "      <th>zoo</th>\n",
       "      <th>zoopla</th>\n",
       "      <th>zurich</th>\n",
       "      <th>zygos</th>\n",
       "    </tr>\n",
       "  </thead>\n",
       "  <tbody>\n",
       "    <tr>\n",
       "      <th>0</th>\n",
       "      <td>0.000000</td>\n",
       "      <td>0.150376</td>\n",
       "      <td>0.0</td>\n",
       "      <td>0.0</td>\n",
       "      <td>0.00000</td>\n",
       "      <td>0.0</td>\n",
       "      <td>0.0</td>\n",
       "      <td>0.0</td>\n",
       "      <td>0.0</td>\n",
       "      <td>0.0</td>\n",
       "      <td>...</td>\n",
       "      <td>0.0</td>\n",
       "      <td>0.0</td>\n",
       "      <td>0.0</td>\n",
       "      <td>0.0</td>\n",
       "      <td>0.000000</td>\n",
       "      <td>0.0</td>\n",
       "      <td>0.0</td>\n",
       "      <td>0.0</td>\n",
       "      <td>0.0</td>\n",
       "      <td>0.000000</td>\n",
       "    </tr>\n",
       "    <tr>\n",
       "      <th>1</th>\n",
       "      <td>0.004371</td>\n",
       "      <td>0.069226</td>\n",
       "      <td>0.0</td>\n",
       "      <td>0.0</td>\n",
       "      <td>0.00000</td>\n",
       "      <td>0.0</td>\n",
       "      <td>0.0</td>\n",
       "      <td>0.0</td>\n",
       "      <td>0.0</td>\n",
       "      <td>0.0</td>\n",
       "      <td>...</td>\n",
       "      <td>0.0</td>\n",
       "      <td>0.0</td>\n",
       "      <td>0.0</td>\n",
       "      <td>0.0</td>\n",
       "      <td>0.000000</td>\n",
       "      <td>0.0</td>\n",
       "      <td>0.0</td>\n",
       "      <td>0.0</td>\n",
       "      <td>0.0</td>\n",
       "      <td>0.000000</td>\n",
       "    </tr>\n",
       "    <tr>\n",
       "      <th>2</th>\n",
       "      <td>0.000000</td>\n",
       "      <td>0.006357</td>\n",
       "      <td>0.0</td>\n",
       "      <td>0.0</td>\n",
       "      <td>0.00000</td>\n",
       "      <td>0.0</td>\n",
       "      <td>0.0</td>\n",
       "      <td>0.0</td>\n",
       "      <td>0.0</td>\n",
       "      <td>0.0</td>\n",
       "      <td>...</td>\n",
       "      <td>0.0</td>\n",
       "      <td>0.0</td>\n",
       "      <td>0.0</td>\n",
       "      <td>0.0</td>\n",
       "      <td>0.000000</td>\n",
       "      <td>0.0</td>\n",
       "      <td>0.0</td>\n",
       "      <td>0.0</td>\n",
       "      <td>0.0</td>\n",
       "      <td>0.002403</td>\n",
       "    </tr>\n",
       "    <tr>\n",
       "      <th>3</th>\n",
       "      <td>0.005720</td>\n",
       "      <td>0.000000</td>\n",
       "      <td>0.0</td>\n",
       "      <td>0.0</td>\n",
       "      <td>0.00175</td>\n",
       "      <td>0.0</td>\n",
       "      <td>0.0</td>\n",
       "      <td>0.0</td>\n",
       "      <td>0.0</td>\n",
       "      <td>0.0</td>\n",
       "      <td>...</td>\n",
       "      <td>0.0</td>\n",
       "      <td>0.0</td>\n",
       "      <td>0.0</td>\n",
       "      <td>0.0</td>\n",
       "      <td>0.001083</td>\n",
       "      <td>0.0</td>\n",
       "      <td>0.0</td>\n",
       "      <td>0.0</td>\n",
       "      <td>0.0</td>\n",
       "      <td>0.000000</td>\n",
       "    </tr>\n",
       "    <tr>\n",
       "      <th>4</th>\n",
       "      <td>0.000982</td>\n",
       "      <td>0.081162</td>\n",
       "      <td>0.0</td>\n",
       "      <td>0.0</td>\n",
       "      <td>0.00000</td>\n",
       "      <td>0.0</td>\n",
       "      <td>0.0</td>\n",
       "      <td>0.0</td>\n",
       "      <td>0.0</td>\n",
       "      <td>0.0</td>\n",
       "      <td>...</td>\n",
       "      <td>0.0</td>\n",
       "      <td>0.0</td>\n",
       "      <td>0.0</td>\n",
       "      <td>0.0</td>\n",
       "      <td>0.000000</td>\n",
       "      <td>0.0</td>\n",
       "      <td>0.0</td>\n",
       "      <td>0.0</td>\n",
       "      <td>0.0</td>\n",
       "      <td>0.000000</td>\n",
       "    </tr>\n",
       "  </tbody>\n",
       "</table>\n",
       "<p>5 rows × 20000 columns</p>\n",
       "</div>"
      ],
      "text/plain": [
       "         00       000  00000hillandsmitharbck  0001     000s  001  0011  0025  \\\n",
       "0  0.000000  0.150376                     0.0   0.0  0.00000  0.0   0.0   0.0   \n",
       "1  0.004371  0.069226                     0.0   0.0  0.00000  0.0   0.0   0.0   \n",
       "2  0.000000  0.006357                     0.0   0.0  0.00000  0.0   0.0   0.0   \n",
       "3  0.005720  0.000000                     0.0   0.0  0.00175  0.0   0.0   0.0   \n",
       "4  0.000982  0.081162                     0.0   0.0  0.00000  0.0   0.0   0.0   \n",
       "\n",
       "   004  005  ...  zircadian  zloty   zn  zoladex      zone  zones  zoo  \\\n",
       "0  0.0  0.0  ...        0.0    0.0  0.0      0.0  0.000000    0.0  0.0   \n",
       "1  0.0  0.0  ...        0.0    0.0  0.0      0.0  0.000000    0.0  0.0   \n",
       "2  0.0  0.0  ...        0.0    0.0  0.0      0.0  0.000000    0.0  0.0   \n",
       "3  0.0  0.0  ...        0.0    0.0  0.0      0.0  0.001083    0.0  0.0   \n",
       "4  0.0  0.0  ...        0.0    0.0  0.0      0.0  0.000000    0.0  0.0   \n",
       "\n",
       "   zoopla  zurich     zygos  \n",
       "0     0.0     0.0  0.000000  \n",
       "1     0.0     0.0  0.000000  \n",
       "2     0.0     0.0  0.002403  \n",
       "3     0.0     0.0  0.000000  \n",
       "4     0.0     0.0  0.000000  \n",
       "\n",
       "[5 rows x 20000 columns]"
      ]
     },
     "execution_count": 6,
     "metadata": {},
     "output_type": "execute_result"
    }
   ],
   "source": [
    "pd.DataFrame(tf_idf_array, columns=tf_idf_vectorizor.get_feature_names()).head()"
   ]
  },
  {
   "cell_type": "markdown",
   "metadata": {},
   "source": [
    "## PCA"
   ]
  },
  {
   "cell_type": "code",
   "execution_count": 7,
   "metadata": {},
   "outputs": [],
   "source": [
    "sklearn_pca = PCA(n_components = 2)\n",
    "Y_sklearn = sklearn_pca.fit_transform(tf_idf_array)"
   ]
  },
  {
   "cell_type": "code",
   "execution_count": 8,
   "metadata": {},
   "outputs": [
    {
     "data": {
      "text/plain": [
       "<matplotlib.collections.PathCollection at 0x7fb2efd43c88>"
      ]
     },
     "execution_count": 8,
     "metadata": {},
     "output_type": "execute_result"
    },
    {
     "data": {
      "image/png": "[encoded data removed]",
      "text/plain": [
       "<Figure size 432x288 with 1 Axes>"
      ]
     },
     "metadata": {},
     "output_type": "display_data"
    }
   ],
   "source": [
    "plt.scatter(Y_sklearn[:, 0], Y_sklearn[:, 1], s=50, cmap='viridis')"
   ]
  },
  {
   "cell_type": "markdown",
   "metadata": {},
   "source": [
    "## K- Means"
   ]
  },
  {
   "cell_type": "code",
   "execution_count": 9,
   "metadata": {},
   "outputs": [],
   "source": [
    "estimater = KMeans(n_clusters = 3)\n",
    "estimater.fit(Y_sklearn)\n",
    "predicted_values = estimater.predict(Y_sklearn)"
   ]
  },
  {
   "cell_type": "code",
   "execution_count": 10,
   "metadata": {},
   "outputs": [
    {
     "data": {
      "image/png": "[encoded data removed]",
      "text/plain": [
       "<Figure size 432x288 with 1 Axes>"
      ]
     },
     "metadata": {},
     "output_type": "display_data"
    }
   ],
   "source": [
    "plt.scatter(Y_sklearn[:, 0], Y_sklearn[:, 1], c=predicted_values, s=50, cmap='viridis')\n",
    "\n",
    "centers = estimater.cluster_centers_\n",
    "plt.scatter(centers[:, 0], centers[:, 1],c='black', s=300, alpha=0.6);"
   ]
  },
  {
   "cell_type": "markdown",
   "metadata": {},
   "source": [
    "#### Cluster centers"
   ]
  },
  {
   "cell_type": "code",
   "execution_count": 11,
   "metadata": {},
   "outputs": [
    {
     "name": "stdout",
     "output_type": "stream",
     "text": [
      "[[-0.0578396   0.11769358]\n",
      " [-0.08138729 -0.09815895]\n",
      " [ 0.17904169 -0.00608077]]\n"
     ]
    }
   ],
   "source": [
    "print(estimater.cluster_centers_)"
   ]
  },
  {
   "cell_type": "markdown",
   "metadata": {},
   "source": [
    "## Calculate distance between centroids"
   ]
  },
  {
   "cell_type": "code",
   "execution_count": 12,
   "metadata": {},
   "outputs": [],
   "source": [
    "centroid_distance = distance.cdist(estimater.cluster_centers_, estimater.cluster_centers_, 'euclidean')"
   ]
  },
  {
   "cell_type": "code",
   "execution_count": 13,
   "metadata": {},
   "outputs": [
    {
     "name": "stdout",
     "output_type": "stream",
     "text": [
      "[[0.         0.21713316 0.26726923]\n",
      " [0.21713316 0.         0.27622752]\n",
      " [0.26726923 0.27622752 0.        ]]\n"
     ]
    }
   ],
   "source": [
    "print(centroid_distance)"
   ]
  },
  {
   "cell_type": "markdown",
   "metadata": {},
   "source": [
    "## M1 - Average distance between centroids"
   ]
  },
  {
   "cell_type": "code",
   "execution_count": 14,
   "metadata": {},
   "outputs": [
    {
     "name": "stdout",
     "output_type": "stream",
     "text": [
      "M1 - Average distance between cnetroids: 0.25354330193333213\n"
     ]
    }
   ],
   "source": [
    "M1 = np.mean(np.unique(centroid_distance[np.nonzero(centroid_distance)]))\n",
    "print(f'M1 - Average distance between cnetroids: {M1}')"
   ]
  },
  {
   "cell_type": "code",
   "execution_count": 15,
   "metadata": {},
   "outputs": [
    {
     "name": "stdout",
     "output_type": "stream",
     "text": [
      "Minimum distance between centroids: 0.2171331584331671\n"
     ]
    }
   ],
   "source": [
    "min_distance_cluster = np.min(centroid_distance[np.nonzero(centroid_distance)])  # Find minimum value in centroid distance\n",
    "print(f'Minimum distance between centroids: {min_distance_cluster}')"
   ]
  },
  {
   "cell_type": "markdown",
   "metadata": {},
   "source": [
    "### Davied Bouldin Score"
   ]
  },
  {
   "cell_type": "markdown",
   "metadata": {},
   "source": [
    "Lower -> Better"
   ]
  },
  {
   "cell_type": "code",
   "execution_count": 16,
   "metadata": {},
   "outputs": [
    {
     "data": {
      "text/plain": [
       "0.8566083142648703"
      ]
     },
     "execution_count": 16,
     "metadata": {},
     "output_type": "execute_result"
    }
   ],
   "source": [
    "davies_bouldin_score(Y_sklearn, predicted_values)"
   ]
  },
  {
   "cell_type": "markdown",
   "metadata": {},
   "source": [
    "### Silhouette score"
   ]
  },
  {
   "cell_type": "markdown",
   "metadata": {},
   "source": [
    "Higher -> Better"
   ]
  },
  {
   "cell_type": "code",
   "execution_count": 17,
   "metadata": {},
   "outputs": [
    {
     "data": {
      "text/plain": [
       "0.40503121260014535"
      ]
     },
     "execution_count": 17,
     "metadata": {},
     "output_type": "execute_result"
    }
   ],
   "source": [
    "silhouette_score(Y_sklearn, predicted_values)"
   ]
  },
  {
   "cell_type": "markdown",
   "metadata": {},
   "source": [
    "### Dunn Index"
   ]
  },
  {
   "cell_type": "code",
   "execution_count": 18,
   "metadata": {},
   "outputs": [],
   "source": [
    "results = predicted_values.reshape(predicted_values.shape[0], 1)\n",
    "results = np.concatenate((Y_sklearn, results), axis=1)"
   ]
  },
  {
   "cell_type": "markdown",
   "metadata": {},
   "source": [
    "Total results"
   ]
  },
  {
   "cell_type": "code",
   "execution_count": 19,
   "metadata": {},
   "outputs": [
    {
     "data": {
      "text/plain": [
       "array([[-0.10148887, -0.05305169,  1.        ],\n",
       "       [-0.14089274,  0.33727976,  0.        ],\n",
       "       [ 0.11591307, -0.02086373,  2.        ],\n",
       "       ...,\n",
       "       [-0.11915847,  0.12099617,  0.        ],\n",
       "       [ 0.21055539,  0.00310332,  2.        ],\n",
       "       [ 0.14005343,  0.00738713,  2.        ]])"
      ]
     },
     "metadata": {},
     "output_type": "display_data"
    },
    {
     "data": {
      "text/plain": [
       "(999, 3)"
      ]
     },
     "execution_count": 19,
     "metadata": {},
     "output_type": "execute_result"
    }
   ],
   "source": [
    "display(results)\n",
    "results.shape"
   ]
  },
  {
   "cell_type": "markdown",
   "metadata": {},
   "source": [
    "#### Cluster 0 max distance"
   ]
  },
  {
   "cell_type": "code",
   "execution_count": 20,
   "metadata": {},
   "outputs": [
    {
     "name": "stdout",
     "output_type": "stream",
     "text": [
      "Cluster 0 max distance: 0.6709954448403186\n"
     ]
    }
   ],
   "source": [
    "cluster0 = results[np.where(results[:, 2] == 0)][:, [0,1]]\n",
    "cluster0_X = cluster0[:, 0].reshape(cluster0[:, 0].shape[0], 1)\n",
    "cluster0_Y = cluster0[:, 1].reshape(cluster0[:, 1].shape[0], 1)\n",
    "cluster0_distance = paired_euclidean_distances(cluster0_X, cluster0_Y)\n",
    "cluster0_max_distance = np.max(cluster0_distance)\n",
    "print(f'Cluster 0 max distance: {cluster0_max_distance}')"
   ]
  },
  {
   "cell_type": "markdown",
   "metadata": {},
   "source": [
    "#### Cluster 1 max distance"
   ]
  },
  {
   "cell_type": "code",
   "execution_count": 21,
   "metadata": {},
   "outputs": [
    {
     "name": "stdout",
     "output_type": "stream",
     "text": [
      "Cluster 1 max distance: 0.33599385415932037\n"
     ]
    }
   ],
   "source": [
    "cluster1 = results[np.where(results[:, 2] == 1)][:, [0,1]]\n",
    "cluster1_X = cluster1[:, 0].reshape(cluster1[:, 0].shape[0], 1)\n",
    "cluster1_Y = cluster1[:, 1].reshape(cluster1[:, 1].shape[0], 1)\n",
    "cluster1_distance = paired_euclidean_distances(cluster1_X, cluster1_Y)\n",
    "cluster1_max_distance = np.max(cluster1_distance)\n",
    "print(f'Cluster 1 max distance: {cluster1_max_distance}')"
   ]
  },
  {
   "cell_type": "markdown",
   "metadata": {},
   "source": [
    "#### Cluster 2 max distance"
   ]
  },
  {
   "cell_type": "code",
   "execution_count": 22,
   "metadata": {},
   "outputs": [
    {
     "name": "stdout",
     "output_type": "stream",
     "text": [
      "Cluster 1 max distance: 0.4852669570678094\n"
     ]
    }
   ],
   "source": [
    "cluster2 = results[np.where(results[:, 2] == 2)][:, [0,1]]\n",
    "cluster2_X = cluster2[:, 0].reshape(cluster2[:, 0].shape[0], 1)\n",
    "cluster2_Y = cluster2[:, 1].reshape(cluster2[:, 1].shape[0], 1)\n",
    "cluster2_distance = paired_euclidean_distances(cluster2_X, cluster2_Y)\n",
    "cluster2_max_distance = np.max(cluster2_distance)\n",
    "print(f'Cluster 1 max distance: {cluster2_max_distance}')"
   ]
  },
  {
   "cell_type": "code",
   "execution_count": 23,
   "metadata": {},
   "outputs": [
    {
     "name": "stdout",
     "output_type": "stream",
     "text": [
      "Max distance in cluster: 0.6709954448403186\n",
      "Min distance between centroids: 0.2171331584331671\n",
      "Dunn index value: 0.3235985580868433\n"
     ]
    }
   ],
   "source": [
    "max_distance = max(cluster0_max_distance, cluster1_max_distance, cluster2_max_distance)\n",
    "print(f'Max distance in cluster: {max_distance}')\n",
    "print(f'Min distance between centroids: {min_distance_cluster}')\n",
    "dunn_index_value = min_distance_cluster / max_distance\n",
    "print(f'Dunn index value: {dunn_index_value}')"
   ]
  },
  {
   "cell_type": "markdown",
   "metadata": {},
   "source": [
    "## Avg distance to centroid\n",
    "### Transform the predicted values to values as distance to center of the centroid"
   ]
  },
  {
   "cell_type": "code",
   "execution_count": 24,
   "metadata": {},
   "outputs": [
    {
     "name": "stdout",
     "output_type": "stream",
     "text": [
      "[[0.17623622 0.04938359 0.28443569]\n",
      " [0.23476779 0.4394858  0.4693128 ]\n",
      " [0.22223438 0.21190088 0.0648364 ]\n",
      " ...\n",
      " [0.06140774 0.22238622 0.32414794]\n",
      " [0.29183351 0.30900578 0.0328247 ]\n",
      " [0.22655941 0.2453079  0.04124886]]\n"
     ]
    }
   ],
   "source": [
    "res = estimater.transform(Y_sklearn)\n",
    "print(res)"
   ]
  },
  {
   "cell_type": "markdown",
   "metadata": {},
   "source": [
    "## M2 Intra cluster distance for each cluster:\n",
    "### Average distance to centroid"
   ]
  },
  {
   "cell_type": "code",
   "execution_count": 25,
   "metadata": {},
   "outputs": [
    {
     "name": "stdout",
     "output_type": "stream",
     "text": [
      "[[0.17623622 0.04938359 0.28443569 1.        ]\n",
      " [0.23476779 0.4394858  0.4693128  0.        ]\n",
      " [0.22223438 0.21190088 0.0648364  2.        ]\n",
      " ...\n",
      " [0.06140774 0.22238622 0.32414794 0.        ]\n",
      " [0.29183351 0.30900578 0.0328247  2.        ]\n",
      " [0.22655941 0.2453079  0.04124886 2.        ]]\n"
     ]
    }
   ],
   "source": [
    "# Add cluster classificaiton to the array for filtering\n",
    "pred_vals = predicted_values.reshape(predicted_values.shape[0], 1)\n",
    "res_cluster = np.concatenate((res, pred_vals), axis=1)\n",
    "print(res_cluster)"
   ]
  },
  {
   "cell_type": "code",
   "execution_count": 26,
   "metadata": {},
   "outputs": [],
   "source": [
    "# Extract distance to centroid for each cluster\n",
    "dist_cluster0 = res_cluster[np.where(res_cluster[:, 3] == 0)][:,0]\n",
    "dist_cluster1 = res_cluster[np.where(res_cluster[:, 3] == 1)][:,1]\n",
    "dist_cluster2 = res_cluster[np.where(res_cluster[:, 3] == 2)][:,2]"
   ]
  },
  {
   "cell_type": "code",
   "execution_count": 27,
   "metadata": {},
   "outputs": [],
   "source": [
    "# Calc average distance to centroid for each cluster\n",
    "avg_dist_cluster0 = np.mean(dist_cluster0)\n",
    "avg_dist_cluster1 = np.mean(dist_cluster1)\n",
    "avg_dist_cluster2 = np.mean(dist_cluster2)"
   ]
  },
  {
   "cell_type": "code",
   "execution_count": 28,
   "metadata": {},
   "outputs": [],
   "source": [
    "# Total average of distance to centroid\n",
    "M2_total_avg_dist = np.mean([(avg_dist_cluster0, avg_dist_cluster1, avg_dist_cluster2)])"
   ]
  },
  {
   "cell_type": "code",
   "execution_count": 29,
   "metadata": {},
   "outputs": [
    {
     "name": "stdout",
     "output_type": "stream",
     "text": [
      "Cluster 0 Avg distance to centroid: 0.10640674435403999\n",
      "Cluster 1 Avg distance to centroid: 0.09045871098789303\n",
      "Cluster 1 Avg distance to centroid: 0.09578496224127567\n",
      "[M2] Total average distance to centroid: 0.09755013919440288\n"
     ]
    }
   ],
   "source": [
    "# Print values\n",
    "print(f'Cluster 0 Avg distance to centroid: {avg_dist_cluster0}')\n",
    "print(f'Cluster 1 Avg distance to centroid: {avg_dist_cluster1}')\n",
    "print(f'Cluster 1 Avg distance to centroid: {avg_dist_cluster2}')\n",
    "print(f'[M2] Total average distance to centroid: {M2_total_avg_dist}')"
   ]
  },
  {
   "cell_type": "markdown",
   "metadata": {},
   "source": [
    "## M3 - Maximum Radius"
   ]
  },
  {
   "cell_type": "code",
   "execution_count": 30,
   "metadata": {},
   "outputs": [
    {
     "name": "stdout",
     "output_type": "stream",
     "text": [
      "Cluster 0 Max Radius: 0.4129392873040992\n",
      "Cluster 1 Max Radius: 0.24955899951276664\n",
      "Cluster 2 Max Radius: 0.2481628389403187\n",
      "[M3] Maximum Radius: 0.4129392873040992\n"
     ]
    }
   ],
   "source": [
    "cluster0_max_radius = np.max(dist_cluster0)\n",
    "cluster1_max_radius = np.max(dist_cluster1)\n",
    "cluster2_max_radius = np.max(dist_cluster2)\n",
    "M3_maximum_radius = np.max([(cluster0_max_radius, cluster1_max_radius, cluster2_max_radius)])\n",
    "print(f'Cluster 0 Max Radius: {cluster0_max_radius}')\n",
    "print(f'Cluster 1 Max Radius: {cluster1_max_radius}')\n",
    "print(f'Cluster 2 Max Radius: {cluster2_max_radius}')\n",
    "print(f'[M3] Maximum Radius: {M3_maximum_radius}')"
   ]
  },
  {
   "cell_type": "markdown",
   "metadata": {},
   "source": [
    "## M4 - Average Radius"
   ]
  },
  {
   "cell_type": "code",
   "execution_count": 31,
   "metadata": {},
   "outputs": [
    {
     "name": "stdout",
     "output_type": "stream",
     "text": [
      "[M4] Average Radius: 0.3035537085857282\n"
     ]
    }
   ],
   "source": [
    "M4_avg_radius = np.mean([(cluster0_max_radius, cluster1_max_radius, cluster2_max_radius)])\n",
    "print(f'[M4] Average Radius: {M4_avg_radius}')"
   ]
  },
  {
   "cell_type": "markdown",
   "metadata": {},
   "source": [
    "Each column is values of distances to each centroid"
   ]
  },
  {
   "cell_type": "code",
   "execution_count": 32,
   "metadata": {},
   "outputs": [
    {
     "name": "stdout",
     "output_type": "stream",
     "text": [
      "Shape: (999, 3)\n"
     ]
    }
   ],
   "source": [
    "print(f'Shape: {res.shape}')"
   ]
  },
  {
   "cell_type": "markdown",
   "metadata": {},
   "source": [
    "Calculate the avg distance in each row of the np array"
   ]
  },
  {
   "cell_type": "code",
   "execution_count": 33,
   "metadata": {},
   "outputs": [
    {
     "name": "stdout",
     "output_type": "stream",
     "text": [
      "Avg distance to centroid:\n",
      "Cluster 1: 0.20126344773399946\n",
      "Cluster 2: 0.19332773755854069\n",
      "Cluster 3: 0.2311019513094972\n"
     ]
    }
   ],
   "source": [
    "avg_distance = np.mean(res, axis=0)  # axis=1 rows ; axis=0 columns\n",
    "print('Avg distance to centroid:')\n",
    "print(f'Cluster 1: {avg_distance[0]}')\n",
    "print(f'Cluster 2: {avg_distance[1]}')\n",
    "print(f'Cluster 3: {avg_distance[2]}')"
   ]
  },
  {
   "cell_type": "code",
   "execution_count": 34,
   "metadata": {},
   "outputs": [
    {
     "data": {
      "text/plain": [
       "array([0.20126345, 0.19332774, 0.23110195])"
      ]
     },
     "execution_count": 34,
     "metadata": {},
     "output_type": "execute_result"
    }
   ],
   "source": [
    "avg_distance"
   ]
  },
  {
   "cell_type": "markdown",
   "metadata": {},
   "source": [
    "## Purity"
   ]
  },
  {
   "cell_type": "markdown",
   "metadata": {},
   "source": [
    "$Purity = \\frac 1 N \\sum_{i=1}^k max_j | c_i \\cap t_j |$\n",
    "- N - Number of nodes\n",
    "- K - Number of clusters (in our case K = 3)\n",
    "- C - Ground truth clusters\n",
    "- t - Results classification"
   ]
  },
  {
   "cell_type": "markdown",
   "metadata": {},
   "source": [
    "### Creating ground truth"
   ]
  },
  {
   "cell_type": "markdown",
   "metadata": {},
   "source": [
    "backup variables"
   ]
  },
  {
   "cell_type": "code",
   "execution_count": 35,
   "metadata": {},
   "outputs": [],
   "source": [
    "t_predicted_values = predicted_values\n",
    "ground_truth = Y_sklearn"
   ]
  },
  {
   "cell_type": "markdown",
   "metadata": {},
   "source": [
    "reshaping for concat"
   ]
  },
  {
   "cell_type": "code",
   "execution_count": 36,
   "metadata": {},
   "outputs": [
    {
     "name": "stdout",
     "output_type": "stream",
     "text": [
      "Predicted values shape: (999, 1)\n",
      "Y_sklearn shape: (999, 2)\n"
     ]
    }
   ],
   "source": [
    "t_predicted_values.shape\n",
    "\n",
    "t = t_predicted_values.reshape(ground_truth.shape[0], 1)\n",
    "\n",
    "print(f'Predicted values shape: {t.shape}')\n",
    "\n",
    "print(f'Y_sklearn shape: {ground_truth.shape}')"
   ]
  },
  {
   "cell_type": "markdown",
   "metadata": {},
   "source": [
    "### Concat the arrays\n",
    "#### Now we have ground truth classficaiton of the data : (axis, axis, cluster)"
   ]
  },
  {
   "cell_type": "code",
   "execution_count": 37,
   "metadata": {},
   "outputs": [],
   "source": [
    "ground_truth = np.concatenate((ground_truth, t), axis=1)"
   ]
  },
  {
   "cell_type": "code",
   "execution_count": 38,
   "metadata": {},
   "outputs": [
    {
     "data": {
      "text/html": [
       "<div>\n",
       "<style scoped>\n",
       "    .dataframe tbody tr th:only-of-type {\n",
       "        vertical-align: middle;\n",
       "    }\n",
       "\n",
       "    .dataframe tbody tr th {\n",
       "        vertical-align: top;\n",
       "    }\n",
       "\n",
       "    .dataframe thead th {\n",
       "        text-align: right;\n",
       "    }\n",
       "</style>\n",
       "<table border=\"1\" class=\"dataframe\">\n",
       "  <thead>\n",
       "    <tr style=\"text-align: right;\">\n",
       "      <th></th>\n",
       "      <th>axis1</th>\n",
       "      <th>axis2</th>\n",
       "      <th>cluster</th>\n",
       "    </tr>\n",
       "  </thead>\n",
       "  <tbody>\n",
       "    <tr>\n",
       "      <th>0</th>\n",
       "      <td>-0.101489</td>\n",
       "      <td>-0.053052</td>\n",
       "      <td>1.0</td>\n",
       "    </tr>\n",
       "    <tr>\n",
       "      <th>1</th>\n",
       "      <td>-0.140893</td>\n",
       "      <td>0.337280</td>\n",
       "      <td>0.0</td>\n",
       "    </tr>\n",
       "    <tr>\n",
       "      <th>2</th>\n",
       "      <td>0.115913</td>\n",
       "      <td>-0.020864</td>\n",
       "      <td>2.0</td>\n",
       "    </tr>\n",
       "    <tr>\n",
       "      <th>3</th>\n",
       "      <td>-0.039021</td>\n",
       "      <td>-0.109507</td>\n",
       "      <td>1.0</td>\n",
       "    </tr>\n",
       "    <tr>\n",
       "      <th>4</th>\n",
       "      <td>-0.114969</td>\n",
       "      <td>0.148440</td>\n",
       "      <td>0.0</td>\n",
       "    </tr>\n",
       "  </tbody>\n",
       "</table>\n",
       "</div>"
      ],
      "text/plain": [
       "      axis1     axis2  cluster\n",
       "0 -0.101489 -0.053052      1.0\n",
       "1 -0.140893  0.337280      0.0\n",
       "2  0.115913 -0.020864      2.0\n",
       "3 -0.039021 -0.109507      1.0\n",
       "4 -0.114969  0.148440      0.0"
      ]
     },
     "execution_count": 38,
     "metadata": {},
     "output_type": "execute_result"
    }
   ],
   "source": [
    "pd.DataFrame(ground_truth, columns=['axis1', 'axis2', 'cluster']).head()"
   ]
  },
  {
   "cell_type": "code",
   "execution_count": 39,
   "metadata": {},
   "outputs": [
    {
     "name": "stdout",
     "output_type": "stream",
     "text": [
      "Total: 999\n"
     ]
    }
   ],
   "source": [
    "ground_truth[:,2]\n",
    "\n",
    "x, y = np.unique(ground_truth[:,2], return_counts=True)\n",
    "\n",
    "x = [int(v) for v in x.tolist()]\n",
    "total = np.sum(y)\n",
    "y = [int(v) for v in y.tolist()]\n",
    "x_y = dict(zip(x, y))\n",
    "print(f'Total: {total}')"
   ]
  },
  {
   "cell_type": "code",
   "execution_count": 40,
   "metadata": {},
   "outputs": [
    {
     "name": "stdout",
     "output_type": "stream",
     "text": [
      "{0: 334, 1: 383, 2: 282}\n"
     ]
    },
    {
     "data": {
      "image/png": "[encoded data removed]",
      "text/plain": [
       "<Figure size 432x288 with 1 Axes>"
      ]
     },
     "metadata": {},
     "output_type": "display_data"
    }
   ],
   "source": [
    "plt.bar(x, y)\n",
    "print(x_y)"
   ]
  },
  {
   "cell_type": "code",
   "execution_count": 41,
   "metadata": {},
   "outputs": [],
   "source": [
    "def create_confusion_matrix(truth):\n",
    "    con_matrix = {0: list(), 1: list(), 2: list()}\n",
    "    values = list(map(int, truth[:,2]))\n",
    "    for index in range(len(values)):\n",
    "        con_matrix[values[index]].append(index)\n",
    "    return con_matrix"
   ]
  },
  {
   "cell_type": "code",
   "execution_count": 42,
   "metadata": {},
   "outputs": [
    {
     "data": {
      "text/plain": [
       "{0: [1,\n",
       "  4,\n",
       "  6,\n",
       "  7,\n",
       "  14,\n",
       "  15,\n",
       "  16,\n",
       "  17,\n",
       "  19,\n",
       "  20,\n",
       "  29,\n",
       "  39,\n",
       "  41,\n",
       "  44,\n",
       "  45,\n",
       "  49,\n",
       "  50,\n",
       "  52,\n",
       "  53,\n",
       "  54,\n",
       "  55,\n",
       "  58,\n",
       "  61,\n",
       "  62,\n",
       "  64,\n",
       "  67,\n",
       "  68,\n",
       "  69,\n",
       "  72,\n",
       "  74,\n",
       "  75,\n",
       "  77,\n",
       "  79,\n",
       "  81,\n",
       "  85,\n",
       "  86,\n",
       "  89,\n",
       "  92,\n",
       "  98,\n",
       "  102,\n",
       "  104,\n",
       "  105,\n",
       "  106,\n",
       "  107,\n",
       "  108,\n",
       "  110,\n",
       "  113,\n",
       "  116,\n",
       "  118,\n",
       "  121,\n",
       "  123,\n",
       "  124,\n",
       "  127,\n",
       "  128,\n",
       "  131,\n",
       "  134,\n",
       "  135,\n",
       "  137,\n",
       "  141,\n",
       "  142,\n",
       "  143,\n",
       "  144,\n",
       "  145,\n",
       "  149,\n",
       "  151,\n",
       "  155,\n",
       "  156,\n",
       "  157,\n",
       "  161,\n",
       "  163,\n",
       "  164,\n",
       "  168,\n",
       "  170,\n",
       "  181,\n",
       "  182,\n",
       "  183,\n",
       "  185,\n",
       "  186,\n",
       "  188,\n",
       "  193,\n",
       "  201,\n",
       "  202,\n",
       "  204,\n",
       "  206,\n",
       "  208,\n",
       "  209,\n",
       "  210,\n",
       "  211,\n",
       "  220,\n",
       "  222,\n",
       "  230,\n",
       "  231,\n",
       "  233,\n",
       "  234,\n",
       "  240,\n",
       "  243,\n",
       "  245,\n",
       "  249,\n",
       "  254,\n",
       "  256,\n",
       "  258,\n",
       "  261,\n",
       "  262,\n",
       "  268,\n",
       "  269,\n",
       "  270,\n",
       "  274,\n",
       "  275,\n",
       "  281,\n",
       "  283,\n",
       "  284,\n",
       "  285,\n",
       "  286,\n",
       "  290,\n",
       "  291,\n",
       "  293,\n",
       "  297,\n",
       "  299,\n",
       "  300,\n",
       "  305,\n",
       "  310,\n",
       "  313,\n",
       "  315,\n",
       "  316,\n",
       "  317,\n",
       "  329,\n",
       "  330,\n",
       "  338,\n",
       "  342,\n",
       "  343,\n",
       "  347,\n",
       "  353,\n",
       "  354,\n",
       "  356,\n",
       "  358,\n",
       "  360,\n",
       "  362,\n",
       "  363,\n",
       "  374,\n",
       "  377,\n",
       "  387,\n",
       "  389,\n",
       "  393,\n",
       "  401,\n",
       "  412,\n",
       "  423,\n",
       "  425,\n",
       "  427,\n",
       "  430,\n",
       "  432,\n",
       "  433,\n",
       "  434,\n",
       "  437,\n",
       "  440,\n",
       "  441,\n",
       "  442,\n",
       "  447,\n",
       "  449,\n",
       "  453,\n",
       "  456,\n",
       "  459,\n",
       "  465,\n",
       "  466,\n",
       "  468,\n",
       "  470,\n",
       "  474,\n",
       "  486,\n",
       "  487,\n",
       "  492,\n",
       "  500,\n",
       "  502,\n",
       "  503,\n",
       "  504,\n",
       "  505,\n",
       "  507,\n",
       "  520,\n",
       "  521,\n",
       "  523,\n",
       "  524,\n",
       "  525,\n",
       "  526,\n",
       "  530,\n",
       "  531,\n",
       "  533,\n",
       "  534,\n",
       "  535,\n",
       "  536,\n",
       "  538,\n",
       "  539,\n",
       "  541,\n",
       "  546,\n",
       "  547,\n",
       "  555,\n",
       "  559,\n",
       "  560,\n",
       "  562,\n",
       "  575,\n",
       "  576,\n",
       "  580,\n",
       "  582,\n",
       "  584,\n",
       "  589,\n",
       "  590,\n",
       "  591,\n",
       "  594,\n",
       "  599,\n",
       "  601,\n",
       "  604,\n",
       "  605,\n",
       "  606,\n",
       "  612,\n",
       "  613,\n",
       "  616,\n",
       "  617,\n",
       "  618,\n",
       "  623,\n",
       "  626,\n",
       "  630,\n",
       "  634,\n",
       "  638,\n",
       "  642,\n",
       "  647,\n",
       "  652,\n",
       "  657,\n",
       "  660,\n",
       "  661,\n",
       "  665,\n",
       "  672,\n",
       "  673,\n",
       "  676,\n",
       "  681,\n",
       "  686,\n",
       "  688,\n",
       "  691,\n",
       "  693,\n",
       "  694,\n",
       "  695,\n",
       "  697,\n",
       "  698,\n",
       "  704,\n",
       "  709,\n",
       "  719,\n",
       "  720,\n",
       "  724,\n",
       "  729,\n",
       "  731,\n",
       "  733,\n",
       "  734,\n",
       "  739,\n",
       "  740,\n",
       "  741,\n",
       "  742,\n",
       "  748,\n",
       "  751,\n",
       "  754,\n",
       "  759,\n",
       "  760,\n",
       "  761,\n",
       "  765,\n",
       "  766,\n",
       "  769,\n",
       "  773,\n",
       "  774,\n",
       "  776,\n",
       "  777,\n",
       "  780,\n",
       "  782,\n",
       "  783,\n",
       "  795,\n",
       "  799,\n",
       "  801,\n",
       "  806,\n",
       "  807,\n",
       "  812,\n",
       "  813,\n",
       "  814,\n",
       "  815,\n",
       "  816,\n",
       "  817,\n",
       "  819,\n",
       "  821,\n",
       "  822,\n",
       "  823,\n",
       "  826,\n",
       "  827,\n",
       "  829,\n",
       "  832,\n",
       "  834,\n",
       "  837,\n",
       "  838,\n",
       "  840,\n",
       "  841,\n",
       "  849,\n",
       "  855,\n",
       "  857,\n",
       "  858,\n",
       "  862,\n",
       "  865,\n",
       "  867,\n",
       "  871,\n",
       "  882,\n",
       "  886,\n",
       "  888,\n",
       "  895,\n",
       "  897,\n",
       "  899,\n",
       "  901,\n",
       "  902,\n",
       "  904,\n",
       "  906,\n",
       "  911,\n",
       "  914,\n",
       "  920,\n",
       "  923,\n",
       "  924,\n",
       "  928,\n",
       "  932,\n",
       "  935,\n",
       "  944,\n",
       "  948,\n",
       "  955,\n",
       "  957,\n",
       "  958,\n",
       "  962,\n",
       "  966,\n",
       "  975,\n",
       "  983,\n",
       "  985,\n",
       "  986,\n",
       "  987,\n",
       "  990,\n",
       "  991,\n",
       "  994,\n",
       "  996],\n",
       " 1: [0,\n",
       "  3,\n",
       "  8,\n",
       "  9,\n",
       "  10,\n",
       "  11,\n",
       "  21,\n",
       "  22,\n",
       "  26,\n",
       "  27,\n",
       "  30,\n",
       "  31,\n",
       "  32,\n",
       "  36,\n",
       "  42,\n",
       "  46,\n",
       "  47,\n",
       "  48,\n",
       "  51,\n",
       "  56,\n",
       "  63,\n",
       "  65,\n",
       "  66,\n",
       "  73,\n",
       "  76,\n",
       "  78,\n",
       "  80,\n",
       "  82,\n",
       "  84,\n",
       "  93,\n",
       "  95,\n",
       "  96,\n",
       "  100,\n",
       "  101,\n",
       "  103,\n",
       "  109,\n",
       "  111,\n",
       "  112,\n",
       "  117,\n",
       "  119,\n",
       "  125,\n",
       "  132,\n",
       "  133,\n",
       "  147,\n",
       "  150,\n",
       "  152,\n",
       "  153,\n",
       "  158,\n",
       "  160,\n",
       "  162,\n",
       "  165,\n",
       "  167,\n",
       "  169,\n",
       "  171,\n",
       "  176,\n",
       "  178,\n",
       "  180,\n",
       "  190,\n",
       "  191,\n",
       "  194,\n",
       "  195,\n",
       "  197,\n",
       "  198,\n",
       "  199,\n",
       "  200,\n",
       "  203,\n",
       "  207,\n",
       "  212,\n",
       "  217,\n",
       "  219,\n",
       "  221,\n",
       "  224,\n",
       "  226,\n",
       "  227,\n",
       "  232,\n",
       "  236,\n",
       "  237,\n",
       "  239,\n",
       "  241,\n",
       "  250,\n",
       "  252,\n",
       "  253,\n",
       "  257,\n",
       "  260,\n",
       "  263,\n",
       "  264,\n",
       "  265,\n",
       "  266,\n",
       "  267,\n",
       "  271,\n",
       "  272,\n",
       "  276,\n",
       "  277,\n",
       "  278,\n",
       "  279,\n",
       "  280,\n",
       "  282,\n",
       "  287,\n",
       "  289,\n",
       "  292,\n",
       "  301,\n",
       "  302,\n",
       "  304,\n",
       "  307,\n",
       "  308,\n",
       "  309,\n",
       "  311,\n",
       "  318,\n",
       "  319,\n",
       "  322,\n",
       "  323,\n",
       "  325,\n",
       "  326,\n",
       "  327,\n",
       "  328,\n",
       "  332,\n",
       "  334,\n",
       "  341,\n",
       "  344,\n",
       "  345,\n",
       "  346,\n",
       "  350,\n",
       "  351,\n",
       "  352,\n",
       "  357,\n",
       "  359,\n",
       "  366,\n",
       "  367,\n",
       "  368,\n",
       "  369,\n",
       "  371,\n",
       "  373,\n",
       "  375,\n",
       "  379,\n",
       "  380,\n",
       "  382,\n",
       "  383,\n",
       "  384,\n",
       "  385,\n",
       "  388,\n",
       "  391,\n",
       "  392,\n",
       "  394,\n",
       "  395,\n",
       "  396,\n",
       "  397,\n",
       "  398,\n",
       "  400,\n",
       "  404,\n",
       "  405,\n",
       "  406,\n",
       "  408,\n",
       "  409,\n",
       "  410,\n",
       "  414,\n",
       "  415,\n",
       "  416,\n",
       "  417,\n",
       "  418,\n",
       "  419,\n",
       "  422,\n",
       "  424,\n",
       "  428,\n",
       "  431,\n",
       "  436,\n",
       "  438,\n",
       "  444,\n",
       "  446,\n",
       "  448,\n",
       "  451,\n",
       "  454,\n",
       "  455,\n",
       "  457,\n",
       "  458,\n",
       "  460,\n",
       "  461,\n",
       "  462,\n",
       "  463,\n",
       "  471,\n",
       "  473,\n",
       "  475,\n",
       "  476,\n",
       "  480,\n",
       "  481,\n",
       "  482,\n",
       "  483,\n",
       "  488,\n",
       "  489,\n",
       "  490,\n",
       "  494,\n",
       "  496,\n",
       "  497,\n",
       "  498,\n",
       "  499,\n",
       "  506,\n",
       "  508,\n",
       "  511,\n",
       "  512,\n",
       "  513,\n",
       "  514,\n",
       "  517,\n",
       "  518,\n",
       "  519,\n",
       "  522,\n",
       "  527,\n",
       "  529,\n",
       "  537,\n",
       "  540,\n",
       "  543,\n",
       "  545,\n",
       "  549,\n",
       "  551,\n",
       "  552,\n",
       "  553,\n",
       "  554,\n",
       "  556,\n",
       "  563,\n",
       "  564,\n",
       "  565,\n",
       "  566,\n",
       "  568,\n",
       "  569,\n",
       "  570,\n",
       "  571,\n",
       "  572,\n",
       "  577,\n",
       "  578,\n",
       "  579,\n",
       "  581,\n",
       "  583,\n",
       "  585,\n",
       "  586,\n",
       "  587,\n",
       "  592,\n",
       "  597,\n",
       "  598,\n",
       "  600,\n",
       "  608,\n",
       "  610,\n",
       "  611,\n",
       "  615,\n",
       "  620,\n",
       "  622,\n",
       "  625,\n",
       "  629,\n",
       "  631,\n",
       "  635,\n",
       "  640,\n",
       "  641,\n",
       "  643,\n",
       "  644,\n",
       "  648,\n",
       "  649,\n",
       "  651,\n",
       "  654,\n",
       "  655,\n",
       "  656,\n",
       "  663,\n",
       "  664,\n",
       "  666,\n",
       "  667,\n",
       "  668,\n",
       "  669,\n",
       "  675,\n",
       "  677,\n",
       "  679,\n",
       "  682,\n",
       "  684,\n",
       "  687,\n",
       "  689,\n",
       "  690,\n",
       "  692,\n",
       "  696,\n",
       "  699,\n",
       "  700,\n",
       "  706,\n",
       "  707,\n",
       "  711,\n",
       "  713,\n",
       "  714,\n",
       "  715,\n",
       "  716,\n",
       "  718,\n",
       "  721,\n",
       "  723,\n",
       "  725,\n",
       "  728,\n",
       "  745,\n",
       "  750,\n",
       "  753,\n",
       "  755,\n",
       "  756,\n",
       "  757,\n",
       "  758,\n",
       "  762,\n",
       "  763,\n",
       "  767,\n",
       "  768,\n",
       "  771,\n",
       "  775,\n",
       "  779,\n",
       "  784,\n",
       "  785,\n",
       "  787,\n",
       "  790,\n",
       "  791,\n",
       "  793,\n",
       "  794,\n",
       "  796,\n",
       "  800,\n",
       "  803,\n",
       "  808,\n",
       "  809,\n",
       "  810,\n",
       "  811,\n",
       "  820,\n",
       "  824,\n",
       "  825,\n",
       "  830,\n",
       "  833,\n",
       "  835,\n",
       "  836,\n",
       "  842,\n",
       "  843,\n",
       "  844,\n",
       "  846,\n",
       "  847,\n",
       "  848,\n",
       "  851,\n",
       "  852,\n",
       "  859,\n",
       "  860,\n",
       "  861,\n",
       "  863,\n",
       "  866,\n",
       "  870,\n",
       "  872,\n",
       "  873,\n",
       "  875,\n",
       "  877,\n",
       "  878,\n",
       "  879,\n",
       "  881,\n",
       "  883,\n",
       "  887,\n",
       "  890,\n",
       "  891,\n",
       "  894,\n",
       "  896,\n",
       "  900,\n",
       "  903,\n",
       "  905,\n",
       "  908,\n",
       "  910,\n",
       "  912,\n",
       "  913,\n",
       "  915,\n",
       "  917,\n",
       "  918,\n",
       "  921,\n",
       "  925,\n",
       "  927,\n",
       "  929,\n",
       "  931,\n",
       "  933,\n",
       "  934,\n",
       "  940,\n",
       "  952,\n",
       "  956,\n",
       "  961,\n",
       "  965,\n",
       "  969,\n",
       "  970,\n",
       "  971,\n",
       "  972,\n",
       "  974,\n",
       "  976,\n",
       "  978,\n",
       "  981,\n",
       "  982,\n",
       "  988,\n",
       "  989,\n",
       "  995],\n",
       " 2: [2,\n",
       "  5,\n",
       "  12,\n",
       "  13,\n",
       "  18,\n",
       "  23,\n",
       "  24,\n",
       "  25,\n",
       "  28,\n",
       "  33,\n",
       "  34,\n",
       "  35,\n",
       "  37,\n",
       "  38,\n",
       "  40,\n",
       "  43,\n",
       "  57,\n",
       "  59,\n",
       "  60,\n",
       "  70,\n",
       "  71,\n",
       "  83,\n",
       "  87,\n",
       "  88,\n",
       "  90,\n",
       "  91,\n",
       "  94,\n",
       "  97,\n",
       "  99,\n",
       "  114,\n",
       "  115,\n",
       "  120,\n",
       "  122,\n",
       "  126,\n",
       "  129,\n",
       "  130,\n",
       "  136,\n",
       "  138,\n",
       "  139,\n",
       "  140,\n",
       "  146,\n",
       "  148,\n",
       "  154,\n",
       "  159,\n",
       "  166,\n",
       "  172,\n",
       "  173,\n",
       "  174,\n",
       "  175,\n",
       "  177,\n",
       "  179,\n",
       "  184,\n",
       "  187,\n",
       "  189,\n",
       "  192,\n",
       "  196,\n",
       "  205,\n",
       "  213,\n",
       "  214,\n",
       "  215,\n",
       "  216,\n",
       "  218,\n",
       "  223,\n",
       "  225,\n",
       "  228,\n",
       "  229,\n",
       "  235,\n",
       "  238,\n",
       "  242,\n",
       "  244,\n",
       "  246,\n",
       "  247,\n",
       "  248,\n",
       "  251,\n",
       "  255,\n",
       "  259,\n",
       "  273,\n",
       "  288,\n",
       "  294,\n",
       "  295,\n",
       "  296,\n",
       "  298,\n",
       "  303,\n",
       "  306,\n",
       "  312,\n",
       "  314,\n",
       "  320,\n",
       "  321,\n",
       "  324,\n",
       "  331,\n",
       "  333,\n",
       "  335,\n",
       "  336,\n",
       "  337,\n",
       "  339,\n",
       "  340,\n",
       "  348,\n",
       "  349,\n",
       "  355,\n",
       "  361,\n",
       "  364,\n",
       "  365,\n",
       "  370,\n",
       "  372,\n",
       "  376,\n",
       "  378,\n",
       "  381,\n",
       "  386,\n",
       "  390,\n",
       "  399,\n",
       "  402,\n",
       "  403,\n",
       "  407,\n",
       "  411,\n",
       "  413,\n",
       "  420,\n",
       "  421,\n",
       "  426,\n",
       "  429,\n",
       "  435,\n",
       "  439,\n",
       "  443,\n",
       "  445,\n",
       "  450,\n",
       "  452,\n",
       "  464,\n",
       "  467,\n",
       "  469,\n",
       "  472,\n",
       "  477,\n",
       "  478,\n",
       "  479,\n",
       "  484,\n",
       "  485,\n",
       "  491,\n",
       "  493,\n",
       "  495,\n",
       "  501,\n",
       "  509,\n",
       "  510,\n",
       "  515,\n",
       "  516,\n",
       "  528,\n",
       "  532,\n",
       "  542,\n",
       "  544,\n",
       "  548,\n",
       "  550,\n",
       "  557,\n",
       "  558,\n",
       "  561,\n",
       "  567,\n",
       "  573,\n",
       "  574,\n",
       "  588,\n",
       "  593,\n",
       "  595,\n",
       "  596,\n",
       "  602,\n",
       "  603,\n",
       "  607,\n",
       "  609,\n",
       "  614,\n",
       "  619,\n",
       "  621,\n",
       "  624,\n",
       "  627,\n",
       "  628,\n",
       "  632,\n",
       "  633,\n",
       "  636,\n",
       "  637,\n",
       "  639,\n",
       "  645,\n",
       "  646,\n",
       "  650,\n",
       "  653,\n",
       "  658,\n",
       "  659,\n",
       "  662,\n",
       "  670,\n",
       "  671,\n",
       "  674,\n",
       "  678,\n",
       "  680,\n",
       "  683,\n",
       "  685,\n",
       "  701,\n",
       "  702,\n",
       "  703,\n",
       "  705,\n",
       "  708,\n",
       "  710,\n",
       "  712,\n",
       "  717,\n",
       "  722,\n",
       "  726,\n",
       "  727,\n",
       "  730,\n",
       "  732,\n",
       "  735,\n",
       "  736,\n",
       "  737,\n",
       "  738,\n",
       "  743,\n",
       "  744,\n",
       "  746,\n",
       "  747,\n",
       "  749,\n",
       "  752,\n",
       "  764,\n",
       "  770,\n",
       "  772,\n",
       "  778,\n",
       "  781,\n",
       "  786,\n",
       "  788,\n",
       "  789,\n",
       "  792,\n",
       "  797,\n",
       "  798,\n",
       "  802,\n",
       "  804,\n",
       "  805,\n",
       "  818,\n",
       "  828,\n",
       "  831,\n",
       "  839,\n",
       "  845,\n",
       "  850,\n",
       "  853,\n",
       "  854,\n",
       "  856,\n",
       "  864,\n",
       "  868,\n",
       "  869,\n",
       "  874,\n",
       "  876,\n",
       "  880,\n",
       "  884,\n",
       "  885,\n",
       "  889,\n",
       "  892,\n",
       "  893,\n",
       "  898,\n",
       "  907,\n",
       "  909,\n",
       "  916,\n",
       "  919,\n",
       "  922,\n",
       "  926,\n",
       "  930,\n",
       "  936,\n",
       "  937,\n",
       "  938,\n",
       "  939,\n",
       "  941,\n",
       "  942,\n",
       "  943,\n",
       "  945,\n",
       "  946,\n",
       "  947,\n",
       "  949,\n",
       "  950,\n",
       "  951,\n",
       "  953,\n",
       "  954,\n",
       "  959,\n",
       "  960,\n",
       "  963,\n",
       "  964,\n",
       "  967,\n",
       "  968,\n",
       "  973,\n",
       "  977,\n",
       "  979,\n",
       "  980,\n",
       "  984,\n",
       "  992,\n",
       "  993,\n",
       "  997,\n",
       "  998]}"
      ]
     },
     "execution_count": 42,
     "metadata": {},
     "output_type": "execute_result"
    }
   ],
   "source": [
    "create_confusion_matrix(ground_truth)"
   ]
  }
 ],
 "metadata": {
  "kernelspec": {
   "display_name": "Python 3",
   "language": "python",
   "name": "python3"
  },
  "language_info": {
   "codemirror_mode": {
    "name": "ipython",
    "version": 3
   },
   "file_extension": ".py",
   "mimetype": "text/x-python",
   "name": "python",
   "nbconvert_exporter": "python",
   "pygments_lexer": "ipython3",
   "version": "3.6.8"
  }
 },
 "nbformat": 4,
 "nbformat_minor": 4
}
